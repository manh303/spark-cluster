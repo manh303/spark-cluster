{
 "cells": [
  {
   "cell_type": "code",
   "execution_count": 17,
   "metadata": {},
   "outputs": [
    {
     "name": "stdout",
     "output_type": "stream",
     "text": [
      "root\n",
      " |-- date: string (nullable = true)\n",
      " |-- price: long (nullable = true)\n",
      " |-- product: string (nullable = true)\n",
      " |-- quantity: long (nullable = true)\n",
      " |-- sale_id: long (nullable = true)\n",
      "\n",
      "+----------+-----+-------+--------+-------+\n",
      "|      date|price|product|quantity|sale_id|\n",
      "+----------+-----+-------+--------+-------+\n",
      "|2024-03-01| 1000| Laptop|       2|      1|\n",
      "|2024-03-02|  500|  Phone|       5|      2|\n",
      "|2024-03-03|  700| Tablet|       3|      3|\n",
      "|2024-03-04| 1200| Laptop|       1|      4|\n",
      "|2024-03-05|  600|  Phone|       2|      5|\n",
      "+----------+-----+-------+--------+-------+\n",
      "\n",
      "+----------+-----+-------+--------+-------+\n",
      "|      date|price|product|quantity|sale_id|\n",
      "+----------+-----+-------+--------+-------+\n",
      "|2024-03-01| 1000| Laptop|       2|      1|\n",
      "|2024-03-04| 1200| Laptop|       1|      4|\n",
      "+----------+-----+-------+--------+-------+\n",
      "\n",
      "+------------------+\n",
      "|sum(total_revenue)|\n",
      "+------------------+\n",
      "|              9000|\n",
      "+------------------+\n",
      "\n"
     ]
    }
   ],
   "source": [
    "from pyspark.sql import SparkSession\n",
    "from pyspark.sql.functions import col, sum\n",
    "\n",
    "spark = SparkSession.builder.appName(\"Python Json\").getOrCreate()\n",
    "\n",
    "df = spark.read.option(\"header\", True).option(\"mode\", \"PERMISSIVE\").json(\"sales.json\")\n",
    "df.printSchema()\n",
    "\n",
    "df.createOrReplaceTempView(\"sales\")\n",
    "spark.sql(\"select * from sales\").show()\n",
    "\n",
    "df = spark.read.parquet(\"sales.parquet\")\n",
    "\n",
    "df_filter = df.filter(df.price > 700)\n",
    "df_filter.show()\n",
    "\n",
    "df_revenue = df.withColumn(\"total_revenue\", col(\"quantity\") * col(\"price\"))\n",
    "df_revenue.select(sum(\"total_revenue\")).show()"
   ]
  }
 ],
 "metadata": {
  "kernelspec": {
   "display_name": "Python 3",
   "language": "python",
   "name": "python3"
  },
  "language_info": {
   "codemirror_mode": {
    "name": "ipython",
    "version": 3
   },
   "file_extension": ".py",
   "mimetype": "text/x-python",
   "name": "python",
   "nbconvert_exporter": "python",
   "pygments_lexer": "ipython3",
   "version": "3.10.12"
  }
 },
 "nbformat": 4,
 "nbformat_minor": 2
}
